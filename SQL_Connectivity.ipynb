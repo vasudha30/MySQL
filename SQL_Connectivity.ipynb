{
 "cells": [
  {
   "cell_type": "code",
   "execution_count": 3,
   "id": "d2f42f7e",
   "metadata": {},
   "outputs": [],
   "source": [
    "import sqlite3\n",
    "\n",
    "# Connect to an existing database (or create a new one if it doesn't exist)\n",
    "conn = sqlite3.connect('inventory12.db')"
   ]
  },
  {
   "cell_type": "code",
   "execution_count": 12,
   "id": "b18bcd53",
   "metadata": {},
   "outputs": [],
   "source": [
    "def create_table(conn):\n",
    "    return '''CREATE TABLE IF NOT EXISTS inventory12 (\n",
    "                  item_id INTEGER PRIMARY KEY AUTOINCREMENT,\n",
    "                  name TEXT NOT NULL,\n",
    "                  quantity INTEGER NOT NULL,\n",
    "                  price REAL NOT NULL\n",
    "              );'''\n"
   ]
  },
  {
   "cell_type": "code",
   "execution_count": 8,
   "id": "d8007f91",
   "metadata": {},
   "outputs": [],
   "source": [
    "def add_item(conn, name, quantity, price):\n",
    "    \"\"\"Adds a new item to the inventory12.\"\"\"\n",
    "    c = conn.cursor()\n",
    "    c.execute(\"INSERT INTO inventory12 (name, quantity, price) VALUES (?, ?, ?)\", (name, quantity, price))\n",
    "    conn.commit()\n",
    "    print(f\"Item '{name}' added successfully!\")"
   ]
  },
  {
   "cell_type": "code",
   "execution_count": 13,
   "id": "c1392cfe",
   "metadata": {},
   "outputs": [
    {
     "name": "stdout",
     "output_type": "stream",
     "text": [
      "Item 'T-Shirt' added successfully!\n",
      "Item 'Water Bottle' added successfully!\n",
      "Item 'Notebook' added successfully!\n",
      "Inventory:\n",
      "ID: 1 | Name: T-Shirt | Quantity: 20 | Price: $14.99\n",
      "ID: 2 | Name: Water Bottle | Quantity: 15 | Price: $7.50\n",
      "ID: 3 | Name: Notebook | Quantity: 30 | Price: $5.99\n"
     ]
    }
   ],
   "source": [
    "def view_items(conn):\n",
    "    \"\"\"Displays all items in the inventory (or a message if empty).\"\"\"\n",
    "    c = conn.cursor()\n",
    "    c.execute(\"SELECT * FROM inventory12\")\n",
    "    items = c.fetchall()\n",
    "    if items:\n",
    "        print(\"Inventory:\")\n",
    "        for item in items:\n",
    "            print(f\"ID: {item[0]} | Name: {item[1]} | Quantity: {item[2]} | Price: ${item[3]:.2f}\")\n",
    "    else:\n",
    "        print(\"Inventory is empty.\")\n",
    "\n",
    "def add_item(conn, name, quantity, price):\n",
    "    \"\"\"Adds a new item to the inventory and commits changes.\"\"\"\n",
    "    c = conn.cursor()\n",
    "    c.execute(\"INSERT INTO inventory12 (name, quantity, price) VALUES (?, ?, ?)\", (name, quantity, price))\n",
    "    conn.commit()  # Commit changes after adding\n",
    "    print(f\"Item '{name}' added successfully!\")\n",
    "\n",
    "# Connect to an existing database (or create a new one if it doesn't exist)\n",
    "conn = sqlite3.connect('inventory12.db')\n",
    "\n",
    "# Create table (if not exists)\n",
    "try:\n",
    "    c = conn.cursor()\n",
    "    c.execute(create_table(conn))\n",
    "    conn.commit()\n",
    "except sqlite3.Error as e:\n",
    "    print(\"Error creating table:\", e)\n",
    "\n",
    "\n",
    "\n",
    "# Now view items\n",
    "create_table(conn)     # check the table created or not\n",
    "\n",
    "# Add some items using the add_item function (ensure you commit changes)\n",
    "add_item(conn, \"T-Shirt\", 20, 14.99)\n",
    "add_item(conn, \"Water Bottle\", 15, 7.50)\n",
    "add_item(conn, \"Notebook\", 30, 5.99)\n",
    "conn.commit()  # Commit changes after adding items using add_item\n",
    "\n",
    "# Now show how many items are there in inventory\n",
    "\n",
    "view_items(conn)\n"
   ]
  },
  {
   "cell_type": "code",
   "execution_count": null,
   "id": "ecac4754",
   "metadata": {},
   "outputs": [],
   "source": []
  }
 ],
 "metadata": {
  "kernelspec": {
   "display_name": "Python 3 (ipykernel)",
   "language": "python",
   "name": "python3"
  },
  "language_info": {
   "codemirror_mode": {
    "name": "ipython",
    "version": 3
   },
   "file_extension": ".py",
   "mimetype": "text/x-python",
   "name": "python",
   "nbconvert_exporter": "python",
   "pygments_lexer": "ipython3",
   "version": "3.11.5"
  }
 },
 "nbformat": 4,
 "nbformat_minor": 5
}
