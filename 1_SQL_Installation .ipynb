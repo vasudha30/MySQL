{
 "cells": [
  {
   "cell_type": "markdown",
   "id": "27aad233",
   "metadata": {},
   "source": [
    "## SQL WORKBENCH INSTALLATION:- \n",
    "\n",
    "Refer this Youtube link for video guidance: - \n",
    "\n",
    "[https://www.youtube.com/watch?v=u96rVINbAUI&t=36s]\n",
    "\n",
    "To install SQL Workbench, follow these steps:\n",
    "\n",
    "1. **Download SQL Workbench:**\n",
    "   Visit the SQL Workbench website (https://dev.mysql.com/downloads/workbench/) and go to the Downloads section. Choose the appropriate version of SQL Workbench for your operating system (Windows, macOS, or Linux).\n",
    "\n",
    "2. **Install Java:**\n",
    "   SQL Workbench requires Java to run. If you don't have Java installed on your system, you need to install it before proceeding. You can download Java from the official Oracle website (https://www.oracle.com/java/technologies/javase-jdk11-downloads.html).\n",
    "\n",
    "3. **Install SQL Workbench:**\n",
    "   Once you have downloaded the SQL Workbench installer for your operating system, follow these general installation steps:\n",
    "\n",
    "   - **Windows:**\n",
    "     - Run the installer executable (.exe) that you downloaded.\n",
    "     - Follow the installation wizard's instructions.\n",
    "     - Choose the installation directory and any other preferences as prompted.\n",
    "     - Complete the installation.\n",
    "\n",
    "   - **macOS:**\n",
    "     - Open the downloaded disk image (.dmg) file.\n",
    "     - Drag the SQLWorkbenchJ icon to the Applications folder.\n",
    "     - Eject the disk image.\n",
    "\n",
    "   - **Linux:**\n",
    "     - Extract the downloaded archive to a directory of your choice.\n",
    "     - Navigate to the extracted directory.\n",
    "     - Run the SQL Workbench executable script (sqlworkbench.sh) using a terminal.\n",
    "\n",
    "4. **Launch SQL Workbench:**\n",
    "   Once installed, you can launch SQL Workbench:\n",
    "\n",
    "   - **Windows:** Look for the SQL Workbench application in your Start menu or on your desktop.\n",
    "   - **macOS:** Open the Applications folder and double-click on the SQLWorkbenchJ icon.\n",
    "   - **Linux:** Open a terminal, navigate to the SQL Workbench directory, and run the SQL Workbench executable script (sqlworkbench.sh).\n",
    "\n",
    "5. **Configure Connection Profiles:**\n",
    "   When you first launch SQL Workbench, you'll need to set up connection profiles for the databases you want to work with. This involves providing connection details like hostname, port, username, and password. Click on \"Manage Drivers\" to set up database drivers if needed.\n",
    "\n",
    "6. **Start Querying:**\n",
    "   After setting up connection profiles, you can start writing and executing SQL queries using SQL Workbench. You'll have access to a query editor where you can write, test, and execute SQL statements against your connected databases.\n",
    "\n",
    "Please note that specific installation steps might vary based on your operating system. Always refer to the official documentation or resources provided by SQL Workbench for the most accurate and up-to-date installation instructions."
   ]
  },
  {
   "cell_type": "code",
   "execution_count": null,
   "id": "ed10c1d6",
   "metadata": {},
   "outputs": [],
   "source": []
  }
 ],
 "metadata": {
  "kernelspec": {
   "display_name": "Python 3 (ipykernel)",
   "language": "python",
   "name": "python3"
  },
  "language_info": {
   "codemirror_mode": {
    "name": "ipython",
    "version": 3
   },
   "file_extension": ".py",
   "mimetype": "text/x-python",
   "name": "python",
   "nbconvert_exporter": "python",
   "pygments_lexer": "ipython3",
   "version": "3.11.5"
  }
 },
 "nbformat": 4,
 "nbformat_minor": 5
}
